{
 "cells": [
  {
   "cell_type": "markdown",
   "metadata": {
    "heading_collapsed": true
   },
   "source": [
    "# Import Packages and Program Summary"
   ]
  },
  {
   "cell_type": "code",
   "execution_count": 1,
   "metadata": {
    "hidden": true
   },
   "outputs": [],
   "source": [
    "#Source code used for much of the project\n",
    "#http://www.cs.colostate.edu/~anderson/wp/2017/10/13/comparison-of-fitting-a-polynomial-to-data-with-numpy-pytorch-and-autograd-on-cpu-and-gpu/#Now,-with-Pytorch\n",
    "'''Code takes csv data and trains a model which uses a polynomial to find compute mean squared error loss'''\n",
    "\n",
    "# Import packages\n",
    "\n",
    "import torch\n",
    "from torch import *\n",
    "import torch.nn as nn\n",
    "import torchvision.transforms as transforms\n",
    "import torchvision.datasets as dsets\n",
    "\n",
    "import pandas as pd\n",
    "import numpy as np\n",
    "\n",
    "import sympy\n",
    "\n",
    "import time\n",
    "\n",
    "import matplotlib\n",
    "import matplotlib.pyplot as plt\n",
    "%matplotlib inline\n"
   ]
  },
  {
   "cell_type": "markdown",
   "metadata": {
    "heading_collapsed": true
   },
   "source": [
    "# Read In and View Data"
   ]
  },
  {
   "cell_type": "code",
   "execution_count": 2,
   "metadata": {
    "hidden": true
   },
   "outputs": [],
   "source": [
    "#Read data with Pandas, r converts the normal string to a raw string\n",
    "train_data = pd.read_csv(r'C:\\Users\\Trevor\\Documents\\WPI\\Machine Learning- Paffenroth\\5 Data Points.csv')"
   ]
  },
  {
   "cell_type": "code",
   "execution_count": 3,
   "metadata": {
    "hidden": true
   },
   "outputs": [
    {
     "data": {
      "text/plain": [
       "<matplotlib.axes._subplots.AxesSubplot at 0xcc85d68>"
      ]
     },
     "execution_count": 3,
     "metadata": {},
     "output_type": "execute_result"
    },
    {
     "data": {
      "image/png": "[encoded data removed]",
      "text/plain": [
       "<Figure size 360x360 with 1 Axes>"
      ]
     },
     "metadata": {
      "needs_background": "light"
     },
     "output_type": "display_data"
    }
   ],
   "source": [
    "#Plot dataframe\n",
    "train_data.plot(figsize=(5, 5))"
   ]
  },
  {
   "cell_type": "code",
   "execution_count": 4,
   "metadata": {
    "hidden": true
   },
   "outputs": [
    {
     "data": {
      "text/html": [
       "<div>\n",
       "<style scoped>\n",
       "    .dataframe tbody tr th:only-of-type {\n",
       "        vertical-align: middle;\n",
       "    }\n",
       "\n",
       "    .dataframe tbody tr th {\n",
       "        vertical-align: top;\n",
       "    }\n",
       "\n",
       "    .dataframe thead th {\n",
       "        text-align: right;\n",
       "    }\n",
       "</style>\n",
       "<table border=\"1\" class=\"dataframe\">\n",
       "  <thead>\n",
       "    <tr style=\"text-align: right;\">\n",
       "      <th></th>\n",
       "      <th>x1</th>\n",
       "      <th>y1</th>\n",
       "      <th>x2</th>\n",
       "      <th>y2</th>\n",
       "      <th>x3</th>\n",
       "      <th>y3</th>\n",
       "      <th>x4</th>\n",
       "      <th>y4</th>\n",
       "    </tr>\n",
       "  </thead>\n",
       "  <tbody>\n",
       "    <tr>\n",
       "      <th>0</th>\n",
       "      <td>-2</td>\n",
       "      <td>3.680</td>\n",
       "      <td>-2.0</td>\n",
       "      <td>3.5970</td>\n",
       "      <td>-2.00</td>\n",
       "      <td>3.6070</td>\n",
       "      <td>-2.000</td>\n",
       "      <td>3.6690</td>\n",
       "    </tr>\n",
       "    <tr>\n",
       "      <th>1</th>\n",
       "      <td>-1</td>\n",
       "      <td>0.574</td>\n",
       "      <td>-1.0</td>\n",
       "      <td>0.1180</td>\n",
       "      <td>-1.00</td>\n",
       "      <td>0.4539</td>\n",
       "      <td>-1.000</td>\n",
       "      <td>0.3139</td>\n",
       "    </tr>\n",
       "    <tr>\n",
       "      <th>2</th>\n",
       "      <td>0</td>\n",
       "      <td>-0.514</td>\n",
       "      <td>0.9</td>\n",
       "      <td>0.5070</td>\n",
       "      <td>0.99</td>\n",
       "      <td>1.4611</td>\n",
       "      <td>0.999</td>\n",
       "      <td>1.0310</td>\n",
       "    </tr>\n",
       "    <tr>\n",
       "      <th>3</th>\n",
       "      <td>1</td>\n",
       "      <td>1.474</td>\n",
       "      <td>1.0</td>\n",
       "      <td>0.3409</td>\n",
       "      <td>1.00</td>\n",
       "      <td>1.1890</td>\n",
       "      <td>1.000</td>\n",
       "      <td>0.6860</td>\n",
       "    </tr>\n",
       "    <tr>\n",
       "      <th>4</th>\n",
       "      <td>2</td>\n",
       "      <td>3.463</td>\n",
       "      <td>2.0</td>\n",
       "      <td>4.4560</td>\n",
       "      <td>2.00</td>\n",
       "      <td>3.0560</td>\n",
       "      <td>2.000</td>\n",
       "      <td>4.0610</td>\n",
       "    </tr>\n",
       "  </tbody>\n",
       "</table>\n",
       "</div>"
      ],
      "text/plain": [
       "   x1     y1   x2      y2    x3      y3     x4      y4\n",
       "0  -2  3.680 -2.0  3.5970 -2.00  3.6070 -2.000  3.6690\n",
       "1  -1  0.574 -1.0  0.1180 -1.00  0.4539 -1.000  0.3139\n",
       "2   0 -0.514  0.9  0.5070  0.99  1.4611  0.999  1.0310\n",
       "3   1  1.474  1.0  0.3409  1.00  1.1890  1.000  0.6860\n",
       "4   2  3.463  2.0  4.4560  2.00  3.0560  2.000  4.0610"
      ]
     },
     "execution_count": 4,
     "metadata": {},
     "output_type": "execute_result"
    }
   ],
   "source": [
    "#Shows begining of data in a pretty format\n",
    "train_data.head()"
   ]
  },
  {
   "cell_type": "markdown",
   "metadata": {
    "heading_collapsed": true
   },
   "source": [
    "# Convert Data to Pytorch Tensors"
   ]
  },
  {
   "cell_type": "code",
   "execution_count": 5,
   "metadata": {
    "hidden": true
   },
   "outputs": [],
   "source": [
    "#Convert pandas data to numpy arrays\n",
    "x2_array = train_data['x2'].values\n",
    "y2_array = train_data['y2'].values\n",
    "\n",
    "x3_array = train_data['x3'].values\n",
    "y3_array = train_data['y3'].values"
   ]
  },
  {
   "cell_type": "code",
   "execution_count": 6,
   "metadata": {
    "hidden": true
   },
   "outputs": [],
   "source": [
    "#Define varial for setting tensor datatype\n",
    "dtype = torch.FloatTensor"
   ]
  },
  {
   "cell_type": "code",
   "execution_count": 7,
   "metadata": {
    "hidden": true
   },
   "outputs": [
    {
     "name": "stdout",
     "output_type": "stream",
     "text": [
      "ten_y2: tensor([3.5970, 0.1180, 0.5070, 0.3409, 4.4560])\n"
     ]
    }
   ],
   "source": [
    "#Create tensors from arrays\n",
    "ten_x2 = torch.from_numpy(x2_array).type(dtype)\n",
    "ten_y2 = torch.from_numpy(y2_array).type(dtype)\n",
    "\n",
    "ten_x3 = torch.from_numpy(x3_array).type(dtype)\n",
    "ten_y3 = torch.from_numpy(y3_array).type(dtype)\n",
    "\n",
    "print(\"ten_y2:\", ten_y2)"
   ]
  },
  {
   "cell_type": "markdown",
   "metadata": {
    "heading_collapsed": true
   },
   "source": [
    "# Define Model"
   ]
  },
  {
   "cell_type": "code",
   "execution_count": 8,
   "metadata": {
    "hidden": true
   },
   "outputs": [],
   "source": [
    "#Define polynomial parameters\n",
    "#xi = np.linspace(-5, 5, 20).reshape((-1,1))\n",
    "x2 = x2_array.reshape((-1,1))\n",
    "x2_t = ten_x2.reshape((-1,1))\n",
    "y2_t = ten_y2.reshape((-1,1))\n",
    "\n",
    "nSamples = len(x2)\n",
    "\n",
    "degree = 4\n",
    "\n",
    "# learnRate = 0.001 \n",
    "\n",
    "coef = np.zeros((degree+1, 1))\n",
    "coef_t = torch.zeros((degree+1, 1)).type(dtype)\n",
    "#coef_t = torch.rand((degree+1, 1)).type(dtype)"
   ]
  },
  {
   "cell_type": "code",
   "execution_count": 9,
   "metadata": {
    "hidden": true
   },
   "outputs": [],
   "source": [
    "#Define polynomial as tensor\n",
    "def poly_torch(x2, coef):\n",
    "    ''' poly(x2,w), where x2 is Nx1 samples and w is 1xD+1 coefficients for xi^0, xi^1, ..., xi^D'''\n",
    "    # D = w.size\n",
    "    D = coef.shape[0]\n",
    "    x2Powers = x2 ** torch.arange(0.0, D)\n",
    "    # return xiPowers @ coef\n",
    "    return x2Powers.mm(coef)"
   ]
  },
  {
   "cell_type": "code",
   "execution_count": 10,
   "metadata": {
    "hidden": true
   },
   "outputs": [],
   "source": [
    "#Function to apply gradient to\n",
    "\n",
    "# No changes needed from dpoly\n",
    "def dpoly_dw_torch(x2, coef):\n",
    "    D = coef.shape[0]\n",
    "    x2Powers = x2 ** torch.arange(0.0, D)\n",
    "    return x2Powers"
   ]
  },
  {
   "cell_type": "markdown",
   "metadata": {
    "heading_collapsed": true
   },
   "source": [
    "# Train Model"
   ]
  },
  {
   "cell_type": "code",
   "execution_count": 11,
   "metadata": {
    "hidden": true
   },
   "outputs": [
    {
     "name": "stdout",
     "output_type": "stream",
     "text": [
      "First step gradient:\n",
      "tensor([[ -3.6076],\n",
      "        [ -0.9589],\n",
      "        [-13.2326],\n",
      "        [ -2.9858],\n",
      "        [-51.8558]])\n",
      "Pytorch took 52.77901864051819 seconds\n"
     ]
    }
   ],
   "source": [
    "startTime = time.time()\n",
    "\n",
    "nSteps = 200000\n",
    "learnRate = 0.00001 \n",
    "degree = 4\n",
    "\n",
    "# w = np.zeros((degree+1, 1))\n",
    "#w_torch = torch.zeros((degree+1, 1)).type(dtype)\n",
    "\n",
    "# mseTrace = np.zeros(nSteps)\n",
    "mseTrace = torch.zeros(nSteps)\n",
    "nSamples = x2_t.shape[0]\n",
    "\n",
    "for step in range(nSteps):\n",
    "    \n",
    "    # yModel = poly(x, w)\n",
    "    # grad = -2/nSamples * dpoly(x, w).T @ (y - yModel)\n",
    "    yModel = poly_torch(x2_t, coef_t)\n",
    "    grad = -2/nSamples * dpoly_dw_torch(x2_t, coef_t).t().mm(y2_t - yModel)\n",
    "    coef_t -= learnRate * grad\n",
    "\n",
    "    if step == 0:\n",
    "        print('First step gradient:')\n",
    "        print(grad)\n",
    " \n",
    "    \n",
    "    mse = ((y2_t - yModel)**2).mean()\n",
    "    mseTrace[step] = mse\n",
    "    \n",
    "print('Pytorch took {} seconds'.format(time.time()-startTime))"
   ]
  },
  {
   "cell_type": "markdown",
   "metadata": {
    "heading_collapsed": true
   },
   "source": [
    "# View Outputs and Plots"
   ]
  },
  {
   "cell_type": "code",
   "execution_count": 12,
   "metadata": {
    "hidden": true
   },
   "outputs": [
    {
     "name": "stdout",
     "output_type": "stream",
     "text": [
      "coef_t tensor([[0.0263],\n",
      "        [0.1154],\n",
      "        [0.0503],\n",
      "        [0.0255],\n",
      "        [0.2373]])\n",
      "yModel tensor([[3.5900],\n",
      "        [0.1731],\n",
      "        [0.3451],\n",
      "        [0.4547],\n",
      "        [4.4587]])\n"
     ]
    }
   ],
   "source": [
    "print(\"coef_t\", coef_t)\n",
    "print(\"yModel\", yModel)"
   ]
  },
  {
   "cell_type": "code",
   "execution_count": 15,
   "metadata": {
    "hidden": true
   },
   "outputs": [
    {
     "name": "stdout",
     "output_type": "stream",
     "text": [
      "[[3.5900283 ]\n",
      " [0.17309612]\n",
      " [0.34512782]\n",
      " [0.45472428]\n",
      " [4.458703  ]]\n",
      "(5, 1)\n"
     ]
    },
    {
     "data": {
      "image/png": "[encoded data removed]",
      "text/plain": [
       "<Figure size 432x288 with 1 Axes>"
      ]
     },
     "metadata": {
      "needs_background": "light"
     },
     "output_type": "display_data"
    }
   ],
   "source": [
    "#Scatterplot\n",
    "input_array = x2_array\n",
    "final_pred = yModel.detach().numpy()\n",
    "y_true = y2_array\n",
    "\n",
    "print(final_pred)\n",
    "print(final_pred.shape)\n",
    "\n",
    "\n",
    "plt.scatter(input_array, final_pred, color = \"red\")\n",
    "plt.scatter(input_array, y_true, color = \"blue\")\n",
    "#plt.scatter(input_array, pred_y, color = \"green\")\n",
    "plt.xlabel(\"x\", fontsize=18)\n",
    "plt.ylabel(\"y\", fontsize=18)\n",
    "\n",
    "plt.show()"
   ]
  },
  {
   "cell_type": "code",
   "execution_count": 14,
   "metadata": {
    "code_folding": [
     0
    ],
    "hidden": true
   },
   "outputs": [
    {
     "name": "stdout",
     "output_type": "stream",
     "text": [
      "coefficient a: 0.2373085469007492\n",
      "y_x_sol = 0.237308546900749*x**4 + 0.0254514422267675*x**3 + 0.0502756871283054*x**2 + 0.115362837910652*x + 0.0263258889317513\n"
     ]
    },
    {
     "data": {
      "image/png": "[encoded data removed]",
      "text/plain": [
       "<Figure size 576x288 with 1 Axes>"
      ]
     },
     "metadata": {
      "needs_background": "light"
     },
     "output_type": "display_data"
    }
   ],
   "source": [
    "#Plot Data and Polynomial predictions\n",
    "\n",
    "coef_n = coef_t.detach().numpy()\n",
    "\n",
    "# a = float(y2_arr[0])\n",
    "# b = float(y2_arr[1])\n",
    "# c = float(y2_arr[2])\n",
    "# d = float(y2_arr[3])\n",
    "# e = float(y2_arr[4])\n",
    "\n",
    "a = float(coef_n[4])\n",
    "b = float(coef_n[3])\n",
    "c = float(coef_n[2])\n",
    "d = float(coef_n[1])\n",
    "e = float(coef_n[0])\n",
    "\n",
    "print(\"coefficient a:\", a)\n",
    "\n",
    "fig, ax = plt.subplots(figsize=(8,4))\n",
    "tt = np.linspace(-2.5, 2.5, 50)\n",
    "\n",
    "#Convert x to a sympy symbol\n",
    "x = sympy.symbols(\"x\")\n",
    "\n",
    "\n",
    "y_x_sol = a*(x**4) + b*(x**3) + c*(x**2) + d*(x**1) + e\n",
    "\n",
    "print(\"y_x_sol =\", y_x_sol)\n",
    "\n",
    "y_x = sympy.lambdify(x, y_x_sol,'numpy')\n",
    "\n",
    "y_x_t = x**2\n",
    "y_x_t = sympy.lambdify(x, y_x_t,'numpy')\n",
    "\n",
    "ax.plot(tt, y_x(tt).real, color = \"purple\", label='Polynomial Fit')\n",
    "ax.plot(tt, y_x_t(tt).real, color = \"orange\", label='True Equation')\n",
    "plt.scatter(input_array, y_true, color = \"blue\", label='True Data')\n",
    "plt.scatter(input_array, final_pred, color = \"red\", label='Model Prediction')\n",
    "plt.scatter(x3_array, y3_array, color = \"green\", label='New Noisy Data')\n",
    "#plt.scatter(x_arr,y_arr)\n",
    "ax.set_xlabel(\"x\", fontsize=18)\n",
    "ax.set_ylabel(\"y\", fontsize=18)\n",
    "ax.legend()\n",
    "#plt.plot(y2_arr, color=\"red\")\n",
    "plt.show()"
   ]
  },
  {
   "cell_type": "code",
   "execution_count": null,
   "metadata": {
    "hidden": true
   },
   "outputs": [],
   "source": []
  }
 ],
 "metadata": {
  "kernelspec": {
   "display_name": "Python 3",
   "language": "python",
   "name": "python3"
  },
  "language_info": {
   "codemirror_mode": {
    "name": "ipython",
    "version": 3
   },
   "file_extension": ".py",
   "mimetype": "text/x-python",
   "name": "python",
   "nbconvert_exporter": "python",
   "pygments_lexer": "ipython3",
   "version": "3.7.1"
  },
  "toc": {
   "base_numbering": 1,
   "nav_menu": {},
   "number_sections": true,
   "sideBar": true,
   "skip_h1_title": false,
   "title_cell": "Table of Contents",
   "title_sidebar": "Contents",
   "toc_cell": false,
   "toc_position": {},
   "toc_section_display": true,
   "toc_window_display": false
  },
  "varInspector": {
   "cols": {
    "lenName": 16,
    "lenType": 16,
    "lenVar": 40
   },
   "kernels_config": {
    "python": {
     "delete_cmd_postfix": "",
     "delete_cmd_prefix": "del ",
     "library": "var_list.py",
     "varRefreshCmd": "print(var_dic_list())"
    },
    "r": {
     "delete_cmd_postfix": ") ",
     "delete_cmd_prefix": "rm(",
     "library": "var_list.r",
     "varRefreshCmd": "cat(var_dic_list()) "
    }
   },
   "types_to_exclude": [
    "module",
    "function",
    "builtin_function_or_method",
    "instance",
    "_Feature"
   ],
   "window_display": false
  }
 },
 "nbformat": 4,
 "nbformat_minor": 2
}
